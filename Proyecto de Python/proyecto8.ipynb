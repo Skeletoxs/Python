{
 "cells": [
  {
   "cell_type": "code",
   "execution_count": 2,
   "metadata": {},
   "outputs": [
    {
     "name": "stdout",
     "output_type": "stream",
     "text": [
      "Bienvenidos a la subasta\n",
      "\u001b[H\u001b[2J\u001b[H\u001b[2J\u001b[H\u001b[2J\u001b[H\u001b[2JEl ganador de la apuesta es Iliana con un precio de 4000.0\n"
     ]
    }
   ],
   "source": [
    "from replit import clear\n",
    "\n",
    "def calcular_ganador(apuestas):\n",
    "    apuesta_maxima = 0\n",
    "    ganador = \"\"\n",
    "    for clave in apuestas:\n",
    "        valor_apuesta = apuestas[clave]\n",
    "        if valor_apuesta > apuesta_maxima:\n",
    "            apuesta_maxima = valor_apuesta\n",
    "            ganador = clave\n",
    "    print(f\"El ganador de la apuesta es {ganador} con un precio de {apuesta_maxima}\")\n",
    "\n",
    "\n",
    "print(\"Bienvenidos a la subasta\")\n",
    "apuestas = {}\n",
    "\n",
    "mas_apuestas = True\n",
    "\n",
    "while mas_apuestas:\n",
    "    nombre = input(\"Nombre del apostante\")\n",
    "    precio = float(input(\"Precio de la apuesta\"))\n",
    "    apuestas[nombre] = precio\n",
    "\n",
    "    pregunta = input(\"¿Hay mas personas para hacer apuestas?. Escribe 'Si' o 'No'\").lower()\n",
    "    if pregunta == 'si':\n",
    "        clear()\n",
    "    elif pregunta == 'no':\n",
    "        mas_apuestas = False\n",
    "\n",
    "clear()\n",
    "calcular_ganador(apuestas)"
   ]
  }
 ],
 "metadata": {
  "kernelspec": {
   "display_name": "Python 3",
   "language": "python",
   "name": "python3"
  },
  "language_info": {
   "codemirror_mode": {
    "name": "ipython",
    "version": 3
   },
   "file_extension": ".py",
   "mimetype": "text/x-python",
   "name": "python",
   "nbconvert_exporter": "python",
   "pygments_lexer": "ipython3",
   "version": "3.11.1"
  },
  "orig_nbformat": 4,
  "vscode": {
   "interpreter": {
    "hash": "ebfc0a8d552866b0d59eba665220a57de3bc06f3ac643b8bef38dd8f66781fdd"
   }
  }
 },
 "nbformat": 4,
 "nbformat_minor": 2
}
