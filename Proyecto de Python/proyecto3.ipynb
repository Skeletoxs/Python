{
 "cells": [
  {
   "cell_type": "code",
   "execution_count": 4,
   "metadata": {},
   "outputs": [
    {
     "name": "stdout",
     "output_type": "stream",
     "text": [
      "Bienvenidos a la calculadora de propinas\n",
      "El importe a pagar por persona es 22.05\n"
     ]
    }
   ],
   "source": [
    "print(\"Bienvenidos a la calculadora de propinas\")\n",
    "factura = float(input(\"¿Cual es el monto de tu factura?\"))\n",
    "propina = int(input(\"¿Cual es el porcentaje de propina que quieres dejar?\"))\n",
    "personas = int(input(\"¿Entre cuantas personas hay que repartir la factura?\"))\n",
    "\n",
    "importe_propina = (factura * propina) / 100\n",
    "factura_total = factura + importe_propina\n",
    "\n",
    "importe_por_persona = factura_total / personas\n",
    "importe_redondeado = round(importe_por_persona,2)\n",
    "\n",
    "print(\"El importe a pagar por persona es \" + str(importe_redondeado))"
   ]
  }
 ],
 "metadata": {
  "kernelspec": {
   "display_name": "Python 3",
   "language": "python",
   "name": "python3"
  },
  "language_info": {
   "codemirror_mode": {
    "name": "ipython",
    "version": 3
   },
   "file_extension": ".py",
   "mimetype": "text/x-python",
   "name": "python",
   "nbconvert_exporter": "python",
   "pygments_lexer": "ipython3",
   "version": "3.11.1"
  },
  "orig_nbformat": 4,
  "vscode": {
   "interpreter": {
    "hash": "ebfc0a8d552866b0d59eba665220a57de3bc06f3ac643b8bef38dd8f66781fdd"
   }
  }
 },
 "nbformat": 4,
 "nbformat_minor": 2
}
