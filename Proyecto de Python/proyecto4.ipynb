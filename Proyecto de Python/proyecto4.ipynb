{
 "cells": [
  {
   "cell_type": "code",
   "execution_count": 7,
   "metadata": {},
   "outputs": [
    {
     "name": "stdout",
     "output_type": "stream",
     "text": [
      "Bienvenido al juego de preguntas\n",
      "Respuesta errone. Has perdido... Puedes volver a intentarlo\n"
     ]
    }
   ],
   "source": [
    "print(\"Bienvenido al juego de preguntas\")\n",
    "Respuesta1 = input(\"¿Quieres ir a la izquierda o a la derecha?. Escribe 'Izquierda' o 'Derecha'\").lower()\n",
    "if Respuesta1 == 'izquierda':\n",
    "    print(\"Respuesta erronea. Has perdido... Puedes volver a intentarlo\")\n",
    "else:\n",
    "    Respuesta2 = input(\"Tienes que cruzar a una isla... Quieres esperar un barco o nadar. Escribe 'Nadar' o 'Esperar'\").lower()\n",
    "    if Respuesta2 == 'nadar':\n",
    "        print(\"Respuesta erronea. Te comio un tiburon... Has muerto. Puedes volver a intentarlo\")\n",
    "    else:\n",
    "        Respuesta3 = input(\"Has llegado a una casa y te encuentras tres puertas: una roja, una azul y una verde.¿Que puerta quieres abrir?. Escribe 'Roja', 'Azul' O 'Verde'\").lower()\n",
    "        if Respuesta3 == 'roja' or Respuesta3 == 'azul':\n",
    "            print(\"Respuesta errone. Has perdido... Puedes volver a intentarlo\")\n",
    "        else:\n",
    "            print(\"Enhorabuena has ganado el juego!!!!!!\")\n"
   ]
  }
 ],
 "metadata": {
  "kernelspec": {
   "display_name": "Python 3",
   "language": "python",
   "name": "python3"
  },
  "language_info": {
   "codemirror_mode": {
    "name": "ipython",
    "version": 3
   },
   "file_extension": ".py",
   "mimetype": "text/x-python",
   "name": "python",
   "nbconvert_exporter": "python",
   "pygments_lexer": "ipython3",
   "version": "3.11.1"
  },
  "orig_nbformat": 4,
  "vscode": {
   "interpreter": {
    "hash": "ebfc0a8d552866b0d59eba665220a57de3bc06f3ac643b8bef38dd8f66781fdd"
   }
  }
 },
 "nbformat": 4,
 "nbformat_minor": 2
}
