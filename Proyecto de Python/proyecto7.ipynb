{
 "cells": [
  {
   "cell_type": "code",
   "execution_count": 3,
   "metadata": {},
   "outputs": [
    {
     "name": "stdout",
     "output_type": "stream",
     "text": [
      "El numero de botes de pintura que debes de comprar es 6\n"
     ]
    }
   ],
   "source": [
    "import math\n",
    "\n",
    "def calcula_numero_de_botes(alto,ancho,cubre):\n",
    "    valor = (alto * ancho) / cubre\n",
    "    numero_botes = math.ceil(valor)\n",
    "    return numero_botes\n",
    "\n",
    "alto = int(input(\"¿Cual es el alto de la pared?\"))\n",
    "ancho = int(input(\"¿Cual es el ancho de la pared?\"))\n",
    "cubre = float(input(\"¿Cuantos metros cuadrados cubre el pote de pintura?\"))\n",
    "\n",
    "numero_botes = calcula_numero_de_botes(alto,ancho,cubre)\n",
    "print(f\"El numero de botes de pintura que debes de comprar es {numero_botes}\")"
   ]
  }
 ],
 "metadata": {
  "kernelspec": {
   "display_name": "Python 3",
   "language": "python",
   "name": "python3"
  },
  "language_info": {
   "codemirror_mode": {
    "name": "ipython",
    "version": 3
   },
   "file_extension": ".py",
   "mimetype": "text/x-python",
   "name": "python",
   "nbconvert_exporter": "python",
   "pygments_lexer": "ipython3",
   "version": "3.11.1 (tags/v3.11.1:a7a450f, Dec  6 2022, 19:58:39) [MSC v.1934 64 bit (AMD64)]"
  },
  "orig_nbformat": 4,
  "vscode": {
   "interpreter": {
    "hash": "ebfc0a8d552866b0d59eba665220a57de3bc06f3ac643b8bef38dd8f66781fdd"
   }
  }
 },
 "nbformat": 4,
 "nbformat_minor": 2
}
