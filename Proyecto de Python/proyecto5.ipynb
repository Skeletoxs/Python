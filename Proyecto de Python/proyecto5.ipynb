{
 "cells": [
  {
   "cell_type": "code",
   "execution_count": 8,
   "metadata": {},
   "outputs": [
    {
     "name": "stdout",
     "output_type": "stream",
     "text": [
      "Bienvenido al juego de piedra, papel o tijera\n",
      "Usuario = 0\n",
      "Ordenador = 2\n",
      "Ha ganado el usuario\n"
     ]
    }
   ],
   "source": [
    "import random\n",
    "\n",
    "print(\"Bienvenido al juego de piedra, papel o tijera\")\n",
    "usuario = int(input(\"¿Que opcion vas a legir?. Escribe '0' para piedra, '1' para papel y '2' para tijera\"))\n",
    "\n",
    "ordenador = random.randint(0,2)\n",
    "\n",
    "print(\"Usuario = \" + str(usuario))\n",
    "print(f\"Ordenador = {ordenador}\")\n",
    "\n",
    "if usuario == 0 and ordenador == 2:\n",
    "    print(\"Ha ganado el usuario\")\n",
    "elif usuario > ordenador:\n",
    "    print(\"Ha ganado el usuario\")\n",
    "elif usuario == ordenador:\n",
    "    print(\"Ha sido un empate\")\n",
    "else:\n",
    "    print(\"Ha ganado el ordenador\")"
   ]
  }
 ],
 "metadata": {
  "kernelspec": {
   "display_name": "Python 3",
   "language": "python",
   "name": "python3"
  },
  "language_info": {
   "codemirror_mode": {
    "name": "ipython",
    "version": 3
   },
   "file_extension": ".py",
   "mimetype": "text/x-python",
   "name": "python",
   "nbconvert_exporter": "python",
   "pygments_lexer": "ipython3",
   "version": "3.11.1"
  },
  "orig_nbformat": 4,
  "vscode": {
   "interpreter": {
    "hash": "ebfc0a8d552866b0d59eba665220a57de3bc06f3ac643b8bef38dd8f66781fdd"
   }
  }
 },
 "nbformat": 4,
 "nbformat_minor": 2
}
