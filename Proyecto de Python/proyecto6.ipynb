{
 "cells": [
  {
   "cell_type": "code",
   "execution_count": 3,
   "metadata": {},
   "outputs": [
    {
     "name": "stdout",
     "output_type": "stream",
     "text": [
      "Bienvenidos al generador de contraseña\n",
      "['P', 'L', 'M', '2', '7', '_']\n"
     ]
    }
   ],
   "source": [
    "import random\n",
    "\n",
    "letras = ['A','B','C','D','E','F','G','H','I','J','K','L','M','N','Ñ','O','P','Q','R','S','T','U','V','W','X','Y','Z']\n",
    "numeros = ['1','2','3','4','5','6','7','8','9']\n",
    "simbolos = ['¡','!','@','#','$','%','&','/','(',')','=','*','+','¿','?','-','_','{','}']\n",
    "\n",
    "print(\"Bienvenidos al generador de contraseña\")\n",
    "numero_letras = int(input(\"¿Cuantas letras necesitas\"))\n",
    "numero_numeros = int(input(\"¿Cuantos numeros necesitas?\"))\n",
    "numero_simbolos = int(input(\"¿Cuantos simbolos necesitas?\"))\n",
    "\n",
    "lista = []\n",
    "\n",
    "for letra in range(1, numero_letras + 1):\n",
    "    valor = random.choice(letras)\n",
    "    lista.append(valor)\n",
    "\n",
    "for numero in range(1, numero_numeros + 1):\n",
    "    valor = random.choice(numeros)\n",
    "    lista.append(valor)\n",
    "\n",
    "for simbolo in range(1, numero_simbolos + 1):\n",
    "    valor = random.choice(simbolos)\n",
    "    lista.append(valor)\n",
    "\n",
    "print(lista)\n"
   ]
  },
  {
   "cell_type": "code",
   "execution_count": 4,
   "metadata": {},
   "outputs": [
    {
     "name": "stdout",
     "output_type": "stream",
     "text": [
      "['L', 'M', '_', '7', '2', 'P']\n"
     ]
    }
   ],
   "source": [
    "random.shuffle(lista)\n",
    "print(lista)"
   ]
  },
  {
   "cell_type": "code",
   "execution_count": 5,
   "metadata": {},
   "outputs": [
    {
     "name": "stdout",
     "output_type": "stream",
     "text": [
      "LM_72P\n"
     ]
    }
   ],
   "source": [
    "password = \"\"\n",
    "for caracter in lista:\n",
    "    password = password + caracter\n",
    "\n",
    "print(password)"
   ]
  }
 ],
 "metadata": {
  "kernelspec": {
   "display_name": "Python 3",
   "language": "python",
   "name": "python3"
  },
  "language_info": {
   "codemirror_mode": {
    "name": "ipython",
    "version": 3
   },
   "file_extension": ".py",
   "mimetype": "text/x-python",
   "name": "python",
   "nbconvert_exporter": "python",
   "pygments_lexer": "ipython3",
   "version": "3.11.1"
  },
  "orig_nbformat": 4,
  "vscode": {
   "interpreter": {
    "hash": "ebfc0a8d552866b0d59eba665220a57de3bc06f3ac643b8bef38dd8f66781fdd"
   }
  }
 },
 "nbformat": 4,
 "nbformat_minor": 2
}
